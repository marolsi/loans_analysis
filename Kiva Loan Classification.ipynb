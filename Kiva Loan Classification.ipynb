{
 "cells": [
  {
   "cell_type": "code",
   "execution_count": 1,
   "metadata": {},
   "outputs": [],
   "source": [
    "import pandas as pd\n",
    "import numpy as np\n",
    "import matplotlib.pyplot as plt\n",
    "from sklearn.model_selection import train_test_split\n",
    "\n",
    "\n",
    "# make randomness the same with every run\n",
    "np.random.seed(42)\n",
    "\n",
    "# read in data\n",
    "raw_data = pd.read_csv(\"ml_data.csv\")"
   ]
  },
  {
   "cell_type": "markdown",
   "metadata": {},
   "source": [
    "## Get various featuresets"
   ]
  },
  {
   "cell_type": "code",
   "execution_count": 2,
   "metadata": {},
   "outputs": [
    {
     "data": {
      "text/html": [
       "<div>\n",
       "<style scoped>\n",
       "    .dataframe tbody tr th:only-of-type {\n",
       "        vertical-align: middle;\n",
       "    }\n",
       "\n",
       "    .dataframe tbody tr th {\n",
       "        vertical-align: top;\n",
       "    }\n",
       "\n",
       "    .dataframe thead th {\n",
       "        text-align: right;\n",
       "    }\n",
       "</style>\n",
       "<table border=\"1\" class=\"dataframe\">\n",
       "  <thead>\n",
       "    <tr style=\"text-align: right;\">\n",
       "      <th></th>\n",
       "      <th>Unnamed: 0</th>\n",
       "      <th>loan_amount</th>\n",
       "      <th>term_in_months</th>\n",
       "      <th>rural_pct</th>\n",
       "      <th>mpi_national</th>\n",
       "      <th>mpi_regional</th>\n",
       "      <th>headcount_ratio_regional</th>\n",
       "      <th>intensity_of_deprivation_regional</th>\n",
       "      <th>mpi_urban</th>\n",
       "      <th>headcount_ratio_urban</th>\n",
       "      <th>...</th>\n",
       "      <th>sector_Clothing</th>\n",
       "      <th>sector_Education</th>\n",
       "      <th>sector_Food</th>\n",
       "      <th>sector_Housing</th>\n",
       "      <th>sector_Personal Use</th>\n",
       "      <th>sector_Retail</th>\n",
       "      <th>sector_Services</th>\n",
       "      <th>sector_Transportation</th>\n",
       "      <th>sector_high</th>\n",
       "      <th>sector_low</th>\n",
       "    </tr>\n",
       "  </thead>\n",
       "  <tbody>\n",
       "    <tr>\n",
       "      <th>0</th>\n",
       "      <td>0</td>\n",
       "      <td>575.0</td>\n",
       "      <td>11.0</td>\n",
       "      <td>0.0</td>\n",
       "      <td>0.23</td>\n",
       "      <td>0.184</td>\n",
       "      <td>36.6</td>\n",
       "      <td>50.3</td>\n",
       "      <td>0.087</td>\n",
       "      <td>20.0</td>\n",
       "      <td>...</td>\n",
       "      <td>0</td>\n",
       "      <td>0</td>\n",
       "      <td>0</td>\n",
       "      <td>0</td>\n",
       "      <td>0</td>\n",
       "      <td>0</td>\n",
       "      <td>0</td>\n",
       "      <td>1</td>\n",
       "      <td>0</td>\n",
       "      <td>0</td>\n",
       "    </tr>\n",
       "    <tr>\n",
       "      <th>1</th>\n",
       "      <td>1</td>\n",
       "      <td>200.0</td>\n",
       "      <td>11.0</td>\n",
       "      <td>0.0</td>\n",
       "      <td>0.23</td>\n",
       "      <td>0.184</td>\n",
       "      <td>36.6</td>\n",
       "      <td>50.3</td>\n",
       "      <td>0.087</td>\n",
       "      <td>20.0</td>\n",
       "      <td>...</td>\n",
       "      <td>0</td>\n",
       "      <td>0</td>\n",
       "      <td>0</td>\n",
       "      <td>0</td>\n",
       "      <td>0</td>\n",
       "      <td>0</td>\n",
       "      <td>0</td>\n",
       "      <td>0</td>\n",
       "      <td>0</td>\n",
       "      <td>1</td>\n",
       "    </tr>\n",
       "    <tr>\n",
       "      <th>2</th>\n",
       "      <td>2</td>\n",
       "      <td>400.0</td>\n",
       "      <td>14.0</td>\n",
       "      <td>25.0</td>\n",
       "      <td>0.23</td>\n",
       "      <td>0.184</td>\n",
       "      <td>36.6</td>\n",
       "      <td>50.3</td>\n",
       "      <td>0.087</td>\n",
       "      <td>20.0</td>\n",
       "      <td>...</td>\n",
       "      <td>0</td>\n",
       "      <td>0</td>\n",
       "      <td>1</td>\n",
       "      <td>0</td>\n",
       "      <td>0</td>\n",
       "      <td>0</td>\n",
       "      <td>0</td>\n",
       "      <td>0</td>\n",
       "      <td>0</td>\n",
       "      <td>0</td>\n",
       "    </tr>\n",
       "    <tr>\n",
       "      <th>3</th>\n",
       "      <td>3</td>\n",
       "      <td>400.0</td>\n",
       "      <td>14.0</td>\n",
       "      <td>25.0</td>\n",
       "      <td>0.23</td>\n",
       "      <td>0.184</td>\n",
       "      <td>36.6</td>\n",
       "      <td>50.3</td>\n",
       "      <td>0.087</td>\n",
       "      <td>20.0</td>\n",
       "      <td>...</td>\n",
       "      <td>0</td>\n",
       "      <td>0</td>\n",
       "      <td>0</td>\n",
       "      <td>0</td>\n",
       "      <td>0</td>\n",
       "      <td>0</td>\n",
       "      <td>1</td>\n",
       "      <td>0</td>\n",
       "      <td>0</td>\n",
       "      <td>0</td>\n",
       "    </tr>\n",
       "    <tr>\n",
       "      <th>4</th>\n",
       "      <td>4</td>\n",
       "      <td>475.0</td>\n",
       "      <td>14.0</td>\n",
       "      <td>25.0</td>\n",
       "      <td>0.23</td>\n",
       "      <td>0.184</td>\n",
       "      <td>36.6</td>\n",
       "      <td>50.3</td>\n",
       "      <td>0.087</td>\n",
       "      <td>20.0</td>\n",
       "      <td>...</td>\n",
       "      <td>0</td>\n",
       "      <td>0</td>\n",
       "      <td>0</td>\n",
       "      <td>0</td>\n",
       "      <td>0</td>\n",
       "      <td>0</td>\n",
       "      <td>0</td>\n",
       "      <td>0</td>\n",
       "      <td>0</td>\n",
       "      <td>1</td>\n",
       "    </tr>\n",
       "  </tbody>\n",
       "</table>\n",
       "<p>5 rows × 87 columns</p>\n",
       "</div>"
      ],
      "text/plain": [
       "   Unnamed: 0  loan_amount  term_in_months  rural_pct  mpi_national  \\\n",
       "0           0        575.0            11.0        0.0          0.23   \n",
       "1           1        200.0            11.0        0.0          0.23   \n",
       "2           2        400.0            14.0       25.0          0.23   \n",
       "3           3        400.0            14.0       25.0          0.23   \n",
       "4           4        475.0            14.0       25.0          0.23   \n",
       "\n",
       "   mpi_regional  headcount_ratio_regional  intensity_of_deprivation_regional  \\\n",
       "0         0.184                      36.6                               50.3   \n",
       "1         0.184                      36.6                               50.3   \n",
       "2         0.184                      36.6                               50.3   \n",
       "3         0.184                      36.6                               50.3   \n",
       "4         0.184                      36.6                               50.3   \n",
       "\n",
       "   mpi_urban  headcount_ratio_urban     ...      sector_Clothing  \\\n",
       "0      0.087                   20.0     ...                    0   \n",
       "1      0.087                   20.0     ...                    0   \n",
       "2      0.087                   20.0     ...                    0   \n",
       "3      0.087                   20.0     ...                    0   \n",
       "4      0.087                   20.0     ...                    0   \n",
       "\n",
       "   sector_Education  sector_Food  sector_Housing  sector_Personal Use  \\\n",
       "0                 0            0               0                    0   \n",
       "1                 0            0               0                    0   \n",
       "2                 0            1               0                    0   \n",
       "3                 0            0               0                    0   \n",
       "4                 0            0               0                    0   \n",
       "\n",
       "   sector_Retail  sector_Services  sector_Transportation  sector_high  \\\n",
       "0              0                0                      1            0   \n",
       "1              0                0                      0            0   \n",
       "2              0                0                      0            0   \n",
       "3              0                1                      0            0   \n",
       "4              0                0                      0            0   \n",
       "\n",
       "   sector_low  \n",
       "0           0  \n",
       "1           1  \n",
       "2           0  \n",
       "3           0  \n",
       "4           1  \n",
       "\n",
       "[5 rows x 87 columns]"
      ]
     },
     "execution_count": 2,
     "metadata": {},
     "output_type": "execute_result"
    }
   ],
   "source": [
    "raw_data.head()"
   ]
  },
  {
   "cell_type": "code",
   "execution_count": 3,
   "metadata": {
    "collapsed": true
   },
   "outputs": [],
   "source": [
    "data = raw_data.copy()"
   ]
  },
  {
   "cell_type": "code",
   "execution_count": 4,
   "metadata": {},
   "outputs": [
    {
     "name": "stdout",
     "output_type": "stream",
     "text": [
      "<class 'pandas.core.frame.DataFrame'>\n",
      "RangeIndex: 469808 entries, 0 to 469807\n",
      "Data columns (total 87 columns):\n",
      "Unnamed: 0                                      469808 non-null int64\n",
      "loan_amount                                     469808 non-null float64\n",
      "term_in_months                                  469808 non-null float64\n",
      "rural_pct                                       469808 non-null float64\n",
      "mpi_national                                    469808 non-null float64\n",
      "mpi_regional                                    469808 non-null float64\n",
      "headcount_ratio_regional                        469808 non-null float64\n",
      "intensity_of_deprivation_regional               469808 non-null float64\n",
      "mpi_urban                                       469808 non-null float64\n",
      "headcount_ratio_urban                           469808 non-null float64\n",
      "intensity_of_deprivation_urban                  469808 non-null float64\n",
      "mpi_rural                                       469808 non-null float64\n",
      "headcount_ratio_rural                           469808 non-null float64\n",
      "intensity_of_deprivation_rural                  469808 non-null float64\n",
      "tag_#Repeat Borrower                            469808 non-null int64\n",
      "tag_#Unique                                     469808 non-null int64\n",
      "tag_#Post-disbursed                             469808 non-null int64\n",
      "tag_#Eco-friendly                               469808 non-null int64\n",
      "tag_user_like                                   469808 non-null int64\n",
      "tag_#Single                                     469808 non-null int64\n",
      "tag_#Woman Owned Biz                            469808 non-null int64\n",
      "tag_#Hidden Gem                                 469808 non-null int64\n",
      "tag_#Inspiring Story                            469808 non-null int64\n",
      "tag_#Interesting Photo                          469808 non-null int64\n",
      "tag_#Technology                                 469808 non-null int64\n",
      "tag_#Tourism                                    469808 non-null int64\n",
      "tag_#Refugee                                    469808 non-null int64\n",
      "tag_volunteer_like                              469808 non-null int64\n",
      "tag_#Orphan                                     469808 non-null int64\n",
      "tag_#Vegan                                      469808 non-null int64\n",
      "tag_#Low-profit FP                              469808 non-null int64\n",
      "tag_#Elderly                                    469808 non-null int64\n",
      "tag_#Widowed                                    469808 non-null int64\n",
      "tag_user_favorite                               469808 non-null int64\n",
      "tag_#Sustainable Ag                             469808 non-null int64\n",
      "tag_#Animals                                    469808 non-null int64\n",
      "tag_#Job Creator                                469808 non-null int64\n",
      "tag_#Repair Renew Replace                       469808 non-null int64\n",
      "tag_#Schooling                                  469808 non-null int64\n",
      "tag_#Parent                                     469808 non-null int64\n",
      "tag_#Supporting Family                          469808 non-null int64\n",
      "tag_#Trees                                      469808 non-null int64\n",
      "tag_#Fabrics                                    469808 non-null int64\n",
      "tag_volunteer_pick                              469808 non-null int64\n",
      "tag_#Female Education                           469808 non-null int64\n",
      "tag_#Health and Sanitation                      469808 non-null int64\n",
      "tag_#First Loan                                 469808 non-null int64\n",
      "tag_#Biz Durable Asset                          469808 non-null int64\n",
      "tag_#Single Parent                              469808 non-null int64\n",
      "num_tags                                        469808 non-null int64\n",
      "num_borrowers                                   469808 non-null int64\n",
      "num_male_borrowers                              469808 non-null int64\n",
      "ratio_male                                      469808 non-null float64\n",
      "num_female_borrowers                            469808 non-null int64\n",
      "ratio_female                                    469808 non-null float64\n",
      "hours_till_funded                               469808 non-null float64\n",
      "fully_funded                                    469808 non-null int64\n",
      "funding_velocity                                469808 non-null float64\n",
      "month_posted                                    469808 non-null int64\n",
      "country_Cambodia                                469808 non-null int64\n",
      "country_Colombia                                469808 non-null int64\n",
      "country_East Asia and the Pacific               469808 non-null int64\n",
      "country_Ecuador                                 469808 non-null int64\n",
      "country_El Salvador                             469808 non-null int64\n",
      "country_Honduras                                469808 non-null int64\n",
      "country_Kenya                                   469808 non-null int64\n",
      "country_Latin America and Caribbean             469808 non-null int64\n",
      "country_Nicaragua                               469808 non-null int64\n",
      "country_Nigeria                                 469808 non-null int64\n",
      "country_Pakistan                                469808 non-null int64\n",
      "country_Peru                                    469808 non-null int64\n",
      "country_Philippines                             469808 non-null int64\n",
      "country_South Asia                              469808 non-null int64\n",
      "country_Sub-Saharan Africa                      469808 non-null int64\n",
      "country_Tajikistan                              469808 non-null int64\n",
      "country_The Democratic Republic of the Congo    469808 non-null int64\n",
      "country_Uganda                                  469808 non-null int64\n",
      "sector_Clothing                                 469808 non-null int64\n",
      "sector_Education                                469808 non-null int64\n",
      "sector_Food                                     469808 non-null int64\n",
      "sector_Housing                                  469808 non-null int64\n",
      "sector_Personal Use                             469808 non-null int64\n",
      "sector_Retail                                   469808 non-null int64\n",
      "sector_Services                                 469808 non-null int64\n",
      "sector_Transportation                           469808 non-null int64\n",
      "sector_high                                     469808 non-null int64\n",
      "sector_low                                      469808 non-null int64\n",
      "dtypes: float64(17), int64(70)\n",
      "memory usage: 311.8 MB\n"
     ]
    }
   ],
   "source": [
    "data.info()"
   ]
  },
  {
   "cell_type": "code",
   "execution_count": 5,
   "metadata": {
    "collapsed": true
   },
   "outputs": [],
   "source": [
    "hours_data = data.copy()\n",
    "hours_data.drop(columns=[\"funding_velocity\", ], inplace=True)"
   ]
  },
  {
   "cell_type": "code",
   "execution_count": 6,
   "metadata": {
    "collapsed": true
   },
   "outputs": [],
   "source": [
    "vel_data = data.copy()\n",
    "vel_data.drop(columns=[\"hours_till_funded\"], inplace=True)"
   ]
  },
  {
   "cell_type": "code",
   "execution_count": 7,
   "metadata": {
    "collapsed": true
   },
   "outputs": [],
   "source": [
    "plottable = data.replace([np.inf, -np.inf], np.nan).dropna(subset=[\"hours_till_funded\"], how=\"all\")"
   ]
  },
  {
   "cell_type": "code",
   "execution_count": 8,
   "metadata": {},
   "outputs": [
    {
     "data": {
      "text/plain": [
       "count    467810.000000\n",
       "mean        382.772639\n",
       "std         716.877986\n",
       "min           1.000000\n",
       "25%         124.000000\n",
       "50%         230.000000\n",
       "75%         554.000000\n",
       "max       98510.422488\n",
       "Name: hours_till_funded, dtype: float64"
      ]
     },
     "execution_count": 8,
     "metadata": {},
     "output_type": "execute_result"
    }
   ],
   "source": [
    "plottable.hours_till_funded.describe()"
   ]
  },
  {
   "cell_type": "code",
   "execution_count": 9,
   "metadata": {},
   "outputs": [
    {
     "data": {
      "text/plain": [
       "0.15895216769403672"
      ]
     },
     "execution_count": 9,
     "metadata": {},
     "output_type": "execute_result"
    }
   ],
   "source": [
    "((data.hours_till_funded > 720).sum())/data.shape[0]"
   ]
  },
  {
   "cell_type": "code",
   "execution_count": 10,
   "metadata": {
    "collapsed": true
   },
   "outputs": [],
   "source": [
    "hours_data[\"funded_in_month\"] = hours_data[\"hours_till_funded\"] < 720"
   ]
  },
  {
   "cell_type": "code",
   "execution_count": 11,
   "metadata": {
    "collapsed": true
   },
   "outputs": [],
   "source": [
    "in_month_data = hours_data.drop(columns=[\"hours_till_funded\", \"num_male_borrowers\", \"num_female_borrowers\"], inplace=False)"
   ]
  },
  {
   "cell_type": "code",
   "execution_count": 12,
   "metadata": {},
   "outputs": [
    {
     "data": {
      "text/html": [
       "<div>\n",
       "<style scoped>\n",
       "    .dataframe tbody tr th:only-of-type {\n",
       "        vertical-align: middle;\n",
       "    }\n",
       "\n",
       "    .dataframe tbody tr th {\n",
       "        vertical-align: top;\n",
       "    }\n",
       "\n",
       "    .dataframe thead th {\n",
       "        text-align: right;\n",
       "    }\n",
       "</style>\n",
       "<table border=\"1\" class=\"dataframe\">\n",
       "  <thead>\n",
       "    <tr style=\"text-align: right;\">\n",
       "      <th></th>\n",
       "      <th>Unnamed: 0</th>\n",
       "      <th>loan_amount</th>\n",
       "      <th>term_in_months</th>\n",
       "      <th>rural_pct</th>\n",
       "      <th>mpi_national</th>\n",
       "      <th>mpi_regional</th>\n",
       "      <th>headcount_ratio_regional</th>\n",
       "      <th>intensity_of_deprivation_regional</th>\n",
       "      <th>mpi_urban</th>\n",
       "      <th>headcount_ratio_urban</th>\n",
       "      <th>...</th>\n",
       "      <th>sector_Education</th>\n",
       "      <th>sector_Food</th>\n",
       "      <th>sector_Housing</th>\n",
       "      <th>sector_Personal Use</th>\n",
       "      <th>sector_Retail</th>\n",
       "      <th>sector_Services</th>\n",
       "      <th>sector_Transportation</th>\n",
       "      <th>sector_high</th>\n",
       "      <th>sector_low</th>\n",
       "      <th>funded_in_month</th>\n",
       "    </tr>\n",
       "  </thead>\n",
       "  <tbody>\n",
       "    <tr>\n",
       "      <th>0</th>\n",
       "      <td>0</td>\n",
       "      <td>575.0</td>\n",
       "      <td>11.0</td>\n",
       "      <td>0.0</td>\n",
       "      <td>0.23</td>\n",
       "      <td>0.184</td>\n",
       "      <td>36.6</td>\n",
       "      <td>50.3</td>\n",
       "      <td>0.087</td>\n",
       "      <td>20.0</td>\n",
       "      <td>...</td>\n",
       "      <td>0</td>\n",
       "      <td>0</td>\n",
       "      <td>0</td>\n",
       "      <td>0</td>\n",
       "      <td>0</td>\n",
       "      <td>0</td>\n",
       "      <td>1</td>\n",
       "      <td>0</td>\n",
       "      <td>0</td>\n",
       "      <td>True</td>\n",
       "    </tr>\n",
       "    <tr>\n",
       "      <th>1</th>\n",
       "      <td>1</td>\n",
       "      <td>200.0</td>\n",
       "      <td>11.0</td>\n",
       "      <td>0.0</td>\n",
       "      <td>0.23</td>\n",
       "      <td>0.184</td>\n",
       "      <td>36.6</td>\n",
       "      <td>50.3</td>\n",
       "      <td>0.087</td>\n",
       "      <td>20.0</td>\n",
       "      <td>...</td>\n",
       "      <td>0</td>\n",
       "      <td>0</td>\n",
       "      <td>0</td>\n",
       "      <td>0</td>\n",
       "      <td>0</td>\n",
       "      <td>0</td>\n",
       "      <td>0</td>\n",
       "      <td>0</td>\n",
       "      <td>1</td>\n",
       "      <td>True</td>\n",
       "    </tr>\n",
       "    <tr>\n",
       "      <th>2</th>\n",
       "      <td>2</td>\n",
       "      <td>400.0</td>\n",
       "      <td>14.0</td>\n",
       "      <td>25.0</td>\n",
       "      <td>0.23</td>\n",
       "      <td>0.184</td>\n",
       "      <td>36.6</td>\n",
       "      <td>50.3</td>\n",
       "      <td>0.087</td>\n",
       "      <td>20.0</td>\n",
       "      <td>...</td>\n",
       "      <td>0</td>\n",
       "      <td>1</td>\n",
       "      <td>0</td>\n",
       "      <td>0</td>\n",
       "      <td>0</td>\n",
       "      <td>0</td>\n",
       "      <td>0</td>\n",
       "      <td>0</td>\n",
       "      <td>0</td>\n",
       "      <td>True</td>\n",
       "    </tr>\n",
       "    <tr>\n",
       "      <th>3</th>\n",
       "      <td>3</td>\n",
       "      <td>400.0</td>\n",
       "      <td>14.0</td>\n",
       "      <td>25.0</td>\n",
       "      <td>0.23</td>\n",
       "      <td>0.184</td>\n",
       "      <td>36.6</td>\n",
       "      <td>50.3</td>\n",
       "      <td>0.087</td>\n",
       "      <td>20.0</td>\n",
       "      <td>...</td>\n",
       "      <td>0</td>\n",
       "      <td>0</td>\n",
       "      <td>0</td>\n",
       "      <td>0</td>\n",
       "      <td>0</td>\n",
       "      <td>1</td>\n",
       "      <td>0</td>\n",
       "      <td>0</td>\n",
       "      <td>0</td>\n",
       "      <td>True</td>\n",
       "    </tr>\n",
       "    <tr>\n",
       "      <th>4</th>\n",
       "      <td>4</td>\n",
       "      <td>475.0</td>\n",
       "      <td>14.0</td>\n",
       "      <td>25.0</td>\n",
       "      <td>0.23</td>\n",
       "      <td>0.184</td>\n",
       "      <td>36.6</td>\n",
       "      <td>50.3</td>\n",
       "      <td>0.087</td>\n",
       "      <td>20.0</td>\n",
       "      <td>...</td>\n",
       "      <td>0</td>\n",
       "      <td>0</td>\n",
       "      <td>0</td>\n",
       "      <td>0</td>\n",
       "      <td>0</td>\n",
       "      <td>0</td>\n",
       "      <td>0</td>\n",
       "      <td>0</td>\n",
       "      <td>1</td>\n",
       "      <td>True</td>\n",
       "    </tr>\n",
       "  </tbody>\n",
       "</table>\n",
       "<p>5 rows × 84 columns</p>\n",
       "</div>"
      ],
      "text/plain": [
       "   Unnamed: 0  loan_amount  term_in_months  rural_pct  mpi_national  \\\n",
       "0           0        575.0            11.0        0.0          0.23   \n",
       "1           1        200.0            11.0        0.0          0.23   \n",
       "2           2        400.0            14.0       25.0          0.23   \n",
       "3           3        400.0            14.0       25.0          0.23   \n",
       "4           4        475.0            14.0       25.0          0.23   \n",
       "\n",
       "   mpi_regional  headcount_ratio_regional  intensity_of_deprivation_regional  \\\n",
       "0         0.184                      36.6                               50.3   \n",
       "1         0.184                      36.6                               50.3   \n",
       "2         0.184                      36.6                               50.3   \n",
       "3         0.184                      36.6                               50.3   \n",
       "4         0.184                      36.6                               50.3   \n",
       "\n",
       "   mpi_urban  headcount_ratio_urban       ...         sector_Education  \\\n",
       "0      0.087                   20.0       ...                        0   \n",
       "1      0.087                   20.0       ...                        0   \n",
       "2      0.087                   20.0       ...                        0   \n",
       "3      0.087                   20.0       ...                        0   \n",
       "4      0.087                   20.0       ...                        0   \n",
       "\n",
       "   sector_Food  sector_Housing  sector_Personal Use  sector_Retail  \\\n",
       "0            0               0                    0              0   \n",
       "1            0               0                    0              0   \n",
       "2            1               0                    0              0   \n",
       "3            0               0                    0              0   \n",
       "4            0               0                    0              0   \n",
       "\n",
       "   sector_Services  sector_Transportation  sector_high  sector_low  \\\n",
       "0                0                      1            0           0   \n",
       "1                0                      0            0           1   \n",
       "2                0                      0            0           0   \n",
       "3                1                      0            0           0   \n",
       "4                0                      0            0           1   \n",
       "\n",
       "   funded_in_month  \n",
       "0             True  \n",
       "1             True  \n",
       "2             True  \n",
       "3             True  \n",
       "4             True  \n",
       "\n",
       "[5 rows x 84 columns]"
      ]
     },
     "execution_count": 12,
     "metadata": {},
     "output_type": "execute_result"
    }
   ],
   "source": [
    "in_month_data.head()"
   ]
  },
  {
   "cell_type": "code",
   "execution_count": 13,
   "metadata": {
    "collapsed": true
   },
   "outputs": [],
   "source": [
    "in_month_data[\"funded_in_month\"] = in_month_data[\"funded_in_month\"].astype(\"int\")"
   ]
  },
  {
   "cell_type": "code",
   "execution_count": 14,
   "metadata": {
    "collapsed": true
   },
   "outputs": [],
   "source": [
    "# drop price from X values\n",
    "X_encoded = in_month_data.drop(labels=['funded_in_month'], axis=1)\n",
    "# save price to separate dataframe\n",
    "y_encoded = in_month_data['funded_in_month'].copy()"
   ]
  },
  {
   "cell_type": "code",
   "execution_count": 15,
   "metadata": {},
   "outputs": [
    {
     "data": {
      "text/plain": [
       "0    1\n",
       "1    1\n",
       "2    1\n",
       "3    1\n",
       "4    1\n",
       "Name: funded_in_month, dtype: int64"
      ]
     },
     "execution_count": 15,
     "metadata": {},
     "output_type": "execute_result"
    }
   ],
   "source": [
    "y_encoded.head()"
   ]
  },
  {
   "cell_type": "code",
   "execution_count": 16,
   "metadata": {
    "collapsed": true
   },
   "outputs": [],
   "source": [
    "# shuffle and split data for testing/training\n",
    "train_set_X, test_set_X, train_set_y, test_set_y, = train_test_split(X_encoded, y_encoded, test_size=0.2)"
   ]
  },
  {
   "cell_type": "code",
   "execution_count": 17,
   "metadata": {
    "collapsed": true
   },
   "outputs": [],
   "source": [
    "from sklearn.metrics import precision_score, recall_score, f1_score, confusion_matrix, roc_auc_score, roc_curve\n",
    "\n",
    "# method to evaluate regression models\n",
    "def evaluate(model):\n",
    "    test_predictions = model.predict(test_set_X) # get predictions with test data\n",
    "    f1_test = f1_score(test_set_y, test_predictions)\n",
    "    print(\"f1 using test set: \" + str(f1_test))\n",
    "    \n",
    "    train_predictions = model.predict(train_set_X) # get predictions with training data\n",
    "    f1_train = f1_score(train_set_y, train_predictions)\n",
    "    print(\"f1 using train set: \" + str(f1_train))\n",
    "    \n",
    "    # confusion matrix, precision and recall\n",
    "    print(confusion_matrix(test_set_y, test_predictions))\n",
    "    print(\"Precision: \" + str(precision_score(test_set_y, test_predictions)))\n",
    "    print(\"Recall: \" + str(recall_score(test_set_y, test_predictions)))   \n",
    "    \n",
    "    # ROC and ROC AUC\n",
    "    print(\"Area under the ROC curve: \" + str(roc_auc_score(test_set_y, test_predictions, average=\"macro\", sample_weight=None)))\n",
    "    fpr, tpr, thresholds = roc_curve(test_set_y, test_predictions)\n",
    "    plt.plot(fpr, tpr)\n",
    "    plt.show()"
   ]
  },
  {
   "cell_type": "code",
   "execution_count": 18,
   "metadata": {},
   "outputs": [
    {
     "name": "stdout",
     "output_type": "stream",
     "text": [
      "f1 using test set: 0.935842762646652\n",
      "f1 using train set: 0.997040295083214\n",
      "[[ 9743  5231]\n",
      " [ 4924 74064]]\n",
      "Precision: 0.934031149505013\n",
      "Recall: 0.9376614169240898\n",
      "Area under the ROC curve: 0.7941612814552331\n"
     ]
    },
    {
     "data": {
      "image/png": "[encoded data removed]",
      "text/plain": [
       "<matplotlib.figure.Figure at 0x1065e2fd0>"
      ]
     },
     "metadata": {},
     "output_type": "display_data"
    }
   ],
   "source": [
    "from sklearn.ensemble import RandomForestClassifier\n",
    "\n",
    "rfc = RandomForestClassifier(random_state=42)\n",
    "rfc.fit(train_set_X, train_set_y) \n",
    "\n",
    "evaluate(rfc)"
   ]
  },
  {
   "cell_type": "code",
   "execution_count": 19,
   "metadata": {},
   "outputs": [
    {
     "name": "stdout",
     "output_type": "stream",
     "text": [
      "1    60049\n",
      "0    60049\n",
      "Name: y, dtype: int64\n"
     ]
    }
   ],
   "source": [
    "from sklearn.utils import resample\n",
    "\n",
    "train_set = train_set_X.copy()\n",
    "train_set[\"y\"] = train_set_y\n",
    "\n",
    "majority = train_set[train_set.y==1]\n",
    "minority = train_set[train_set.y==0]\n",
    "\n",
    "# Upsample minority class\n",
    "majority_downsampled = resample(majority, \n",
    "                                 replace=False,    # sample without replacement\n",
    "                                 n_samples=len(minority.index), # to match majority class\n",
    "                                 random_state=42) # reproducible results\n",
    "\n",
    "# Combine majority class with upsampled minority class\n",
    "train_set_new = pd.concat([majority_downsampled, minority])\n",
    "\n",
    "print(train_set_new.y.value_counts())\n",
    "\n",
    "# drop price from X values\n",
    "X_resampled = train_set_new.drop(labels=['y'], axis=1)\n",
    "# save price to separate dataframe\n",
    "y_resampled = train_set_new['y'].copy()"
   ]
  },
  {
   "cell_type": "code",
   "execution_count": 20,
   "metadata": {},
   "outputs": [
    {
     "name": "stdout",
     "output_type": "stream",
     "text": [
      "\n",
      "Random forest results when trained with downsampled classes:\n",
      "f1 using test set: 0.8848383616939833\n",
      "f1 using train set: 0.911677879166796\n",
      "[[13846  1128]\n",
      " [15419 63569]]\n",
      "Precision: 0.9825648793607122\n",
      "Recall: 0.8047931331341469\n",
      "Area under the ROC curve: 0.8647312800704794\n"
     ]
    },
    {
     "data": {
      "image/png": "[encoded data removed]",
      "text/plain": [
       "<matplotlib.figure.Figure at 0x1066036d8>"
      ]
     },
     "metadata": {},
     "output_type": "display_data"
    }
   ],
   "source": [
    "rfc = RandomForestClassifier(random_state=42)\n",
    "rfc.fit(X_resampled, y_resampled) \n",
    "\n",
    "print()\n",
    "print(\"Random forest results when trained with downsampled classes:\")\n",
    "evaluate(rfc)"
   ]
  },
  {
   "cell_type": "code",
   "execution_count": 21,
   "metadata": {},
   "outputs": [
    {
     "name": "stdout",
     "output_type": "stream",
     "text": [
      "1    315797\n",
      "0    315797\n",
      "Name: y, dtype: int64\n"
     ]
    }
   ],
   "source": [
    "train_set = train_set_X.copy()\n",
    "train_set[\"y\"] = train_set_y\n",
    "\n",
    "majority = train_set[train_set.y==1]\n",
    "minority = train_set[train_set.y==0]\n",
    "\n",
    "# Upsample minority class\n",
    "minority_upsampled = resample(minority, \n",
    "                                 replace=True,    # sample without replacement\n",
    "                                 n_samples=len(majority.index), # to match majority class\n",
    "                                 random_state=42) # reproducible results\n",
    "\n",
    "# Combine majority class with upsampled minority class\n",
    "train_set_new = pd.concat([majority, minority_upsampled])\n",
    "\n",
    "print(train_set_new.y.value_counts())\n",
    "\n",
    "# drop price from X values\n",
    "X_resampled = train_set_new.drop(labels=['y'], axis=1)\n",
    "# save price to separate dataframe\n",
    "y_resampled = train_set_new['y'].copy()"
   ]
  },
  {
   "cell_type": "code",
   "execution_count": 22,
   "metadata": {},
   "outputs": [
    {
     "name": "stdout",
     "output_type": "stream",
     "text": [
      "\n",
      "Random forest results when trained with upsampled classes:\n",
      "f1 using test set: 0.931378238609252\n",
      "f1 using train set: 0.9966138843447739\n",
      "[[11100  3874]\n",
      " [ 6768 72220]]\n",
      "Precision: 0.9490892843062528\n",
      "Recall: 0.9143160986478959\n",
      "Area under the ROC curve: 0.8278004962319219\n"
     ]
    },
    {
     "data": {
      "image/png": "[encoded data removed]",
      "text/plain": [
       "<matplotlib.figure.Figure at 0x118db29e8>"
      ]
     },
     "metadata": {},
     "output_type": "display_data"
    }
   ],
   "source": [
    "rfc = RandomForestClassifier(random_state=42)\n",
    "rfc.fit(X_resampled, y_resampled) \n",
    "\n",
    "print()\n",
    "print(\"Random forest results when trained with upsampled classes:\")\n",
    "evaluate(rfc)"
   ]
  },
  {
   "cell_type": "code",
   "execution_count": 25,
   "metadata": {},
   "outputs": [
    {
     "data": {
      "text/plain": [
       "614.5983256709349"
      ]
     },
     "execution_count": 25,
     "metadata": {},
     "output_type": "execute_result"
    }
   ],
   "source": [
    "less_than_month = in_month_data[in_month_data[\"funded_in_month\"] == 1]\n",
    "less_than_month.loan_amount.mean()"
   ]
  },
  {
   "cell_type": "code",
   "execution_count": 26,
   "metadata": {},
   "outputs": [
    {
     "data": {
      "text/plain": [
       "932.3510790024393"
      ]
     },
     "execution_count": 26,
     "metadata": {},
     "output_type": "execute_result"
    }
   ],
   "source": [
    "greater_than_month = in_month_data[in_month_data[\"funded_in_month\"] == 0]\n",
    "greater_than_month.loan_amount.mean()"
   ]
  },
  {
   "cell_type": "code",
   "execution_count": null,
   "metadata": {
    "collapsed": true
   },
   "outputs": [],
   "source": []
  }
 ],
 "metadata": {
  "kernelspec": {
   "display_name": "Python 3",
   "language": "python",
   "name": "python3"
  },
  "language_info": {
   "codemirror_mode": {
    "name": "ipython",
    "version": 3
   },
   "file_extension": ".py",
   "mimetype": "text/x-python",
   "name": "python",
   "nbconvert_exporter": "python",
   "pygments_lexer": "ipython3",
   "version": "3.6.2"
  }
 },
 "nbformat": 4,
 "nbformat_minor": 2
}
