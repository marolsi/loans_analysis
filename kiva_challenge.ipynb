{
 "cells": [
  {
   "cell_type": "code",
   "execution_count": 112,
   "metadata": {},
   "outputs": [],
   "source": [
    "import pandas as pd\n",
    "import numpy as np\n",
    "import matplotlib.pyplot as plt\n",
    "import seaborn as sns\n",
    "\n",
    "from sklearn.decomposition import PCA\n",
    "from sklearn.preprocessing import StandardScaler\n",
    "from sklearn.model_selection import train_test_split\n",
    "from datetime import datetime\n",
    "\n",
    "from dateutil.parser import parse\n",
    "from datetime import timedelta\n",
    "%matplotlib inline\n",
    "\n",
    "# set random\n",
    "np.random.seed(42)\n",
    "\n",
    "# seaborn style\n",
    "sns.set(style=\"darkgrid\")\n",
    "sns.set_palette(\"hls\", 8)\n",
    "\n",
    "# read in data\n",
    "loans = pd.read_csv(\"kiva_loans.csv\")\n",
    "\n",
    "#mpi_locations = pd.read_csv(\"kiva_mpi_region_locations.csv\")\n",
    "#loan_themes = pd.read_csv(\"loan_theme_ids.csv\")\n",
    "#themes_by_region = pd.read_csv(\"loan_themes_by_region.csv\")"
   ]
  },
  {
   "cell_type": "code",
   "execution_count": 113,
   "metadata": {},
   "outputs": [
    {
     "name": "stdout",
     "output_type": "stream",
     "text": [
      "<class 'pandas.core.frame.DataFrame'>\n",
      "RangeIndex: 671205 entries, 0 to 671204\n",
      "Data columns (total 20 columns):\n",
      "id                    671205 non-null int64\n",
      "funded_amount         671205 non-null float64\n",
      "loan_amount           671205 non-null float64\n",
      "activity              671205 non-null object\n",
      "sector                671205 non-null object\n",
      "use                   666977 non-null object\n",
      "country_code          671197 non-null object\n",
      "country               671205 non-null object\n",
      "region                614405 non-null object\n",
      "currency              671205 non-null object\n",
      "partner_id            657698 non-null float64\n",
      "posted_time           671205 non-null object\n",
      "disbursed_time        668809 non-null object\n",
      "funded_time           622874 non-null object\n",
      "term_in_months        671205 non-null float64\n",
      "lender_count          671205 non-null int64\n",
      "tags                  499789 non-null object\n",
      "borrower_genders      666984 non-null object\n",
      "repayment_interval    671205 non-null object\n",
      "date                  671205 non-null object\n",
      "dtypes: float64(4), int64(2), object(14)\n",
      "memory usage: 102.4+ MB\n"
     ]
    }
   ],
   "source": [
    "loans.info()"
   ]
  },
  {
   "cell_type": "markdown",
   "metadata": {},
   "source": [
    "671,205 entries. Pretty big dataset."
   ]
  },
  {
   "cell_type": "code",
   "execution_count": 114,
   "metadata": {},
   "outputs": [],
   "source": [
    "# drop nan values\n",
    "loans.dropna(subset=[\"posted_time\", \"funded_time\"], how='any', axis=0, inplace=True)\n",
    "\n",
    "# set to datetime\n",
    "loans[\"posted_time\"] = pd.to_datetime(loans[\"posted_time\"], infer_datetime_format=True)\n",
    "loans[\"funded_time\"] = pd.to_datetime(loans[\"funded_time\"], infer_datetime_format=True)"
   ]
  },
  {
   "cell_type": "markdown",
   "metadata": {},
   "source": [
    "### Caclulate total number of hours it took to fund loan"
   ]
  },
  {
   "cell_type": "code",
   "execution_count": 115,
   "metadata": {},
   "outputs": [
    {
     "name": "stdout",
     "output_type": "stream",
     "text": [
      "1 days 03:53:53\n",
      "1 days 02:26:15\n",
      "0 days 06:03:29\n",
      "0 days 04:56:49\n",
      "0 days 07:25:32\n",
      "28 days 04:08:38\n",
      "0 days 07:27:07\n",
      "9 days 06:32:43\n",
      "0 days 06:57:38\n",
      "2 days 10:04:01\n",
      "0 days 04:46:16\n",
      "1 days 21:15:43\n",
      "6 days 12:30:17\n",
      "1 days 07:49:39\n",
      "0 days 07:33:38\n"
     ]
    },
    {
     "name": "stderr",
     "output_type": "stream",
     "text": [
      "/Users/mariah/anaconda3/lib/python3.6/site-packages/ipykernel_launcher.py:11: SettingWithCopyWarning: \n",
      "A value is trying to be set on a copy of a slice from a DataFrame.\n",
      "Try using .loc[row_indexer,col_indexer] = value instead\n",
      "\n",
      "See the caveats in the documentation: http://pandas.pydata.org/pandas-docs/stable/indexing.html#indexing-view-versus-copy\n",
      "  # This is added back by InteractiveShellApp.init_path()\n"
     ]
    }
   ],
   "source": [
    "loans_subset = loans[0:15]\n",
    "\n",
    "# create column of how many hours a loan took to fund\n",
    "hours_to_fund = []\n",
    "for index, row in loans_subset.iterrows():\n",
    "    difference = row.funded_time - row.posted_time\n",
    "    print(difference)\n",
    "    diff_in_hours = round((difference.seconds * 60 * 60) + (difference.days / 24))\n",
    "    hours_to_fund.append(diff_in_hours)\n",
    "    \n",
    "loans_subset[\"hours_to_fund\"] = hours_to_fund\n",
    "\n",
    "\n",
    "# TAKES SUPER LONG WITH WHOLE DATASET:\n",
    "# hours_to_fund = []\n",
    "# for index, row in loans.iterrows():\n",
    "#     difference = row.funded_time - row.posted_time\n",
    "#     print(difference)\n",
    "#     diff_in_hours = round((difference.seconds * 60 * 60) + (difference.days / 24))\n",
    "#     hours_to_fund.append(diff_in_hours)\n",
    "    \n",
    "# loans[\"hours_to_fund\"] = hours_to_fund"
   ]
  },
  {
   "cell_type": "markdown",
   "metadata": {},
   "source": [
    "### Calculate day/month/weekday each loan was posted"
   ]
  },
  {
   "cell_type": "code",
   "execution_count": 118,
   "metadata": {},
   "outputs": [],
   "source": [
    "loan_timing = pd.DataFrame(loans_subset[\"id\"])\n",
    "\n",
    "loan_timing['hour_posted'] = loans_subset.apply(lambda row: row.posted_time.hour, axis=1)\n",
    "loan_timing['weekday_posted'] = loans_subset.apply(lambda row: row.posted_time.weekday(), axis=1)\n",
    "loan_timing['month_posted'] = loans_subset.apply(lambda row: row.posted_time.month, axis=1)\n",
    "\n",
    "loans_with_timing = pd.merge(loan_timing, loans_subset, on=\"id\")"
   ]
  },
  {
   "cell_type": "code",
   "execution_count": null,
   "metadata": {
    "collapsed": true
   },
   "outputs": [],
   "source": []
  }
 ],
 "metadata": {
  "kernelspec": {
   "display_name": "Python 3",
   "language": "python",
   "name": "python3"
  }
 },
 "nbformat": 4,
 "nbformat_minor": 2
}
